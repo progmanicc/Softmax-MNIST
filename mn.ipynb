{
 "cells": [
  {
   "cell_type": "code",
   "execution_count": 3,
   "metadata": {},
   "outputs": [],
   "source": [
    "import numpy as np"
   ]
  },
  {
   "cell_type": "markdown",
   "metadata": {},
   "source": [
    "## Setting up main functions"
   ]
  },
  {
   "cell_type": "code",
   "execution_count": 4,
   "metadata": {},
   "outputs": [],
   "source": [
    "#manually adding dummyy features\n",
    "def dummy_features(x):\n",
    "    features = np.ones_like((x))\n",
    "    return np.column_stack((features,x))\n",
    "\n",
    "#defining cross entropy as in the book\n",
    "def cross_entropy(y_true,y_prob):\n",
    "    m = len(y_true)\n",
    "    #for divide by zero error\n",
    "    epsilon = 1e-7\n",
    "    entropy = -np.sum(y_true*np.log(y_prob+epsilon))/m\n",
    "\n",
    "    return entropy\n",
    "\n",
    "\n",
    "def softmax(x):\n",
    "    exp_x = np.exp(x - np.max(x, axis=1, keepdims=True))\n",
    "    return exp_x / np.sum(exp_x, axis=1, keepdims=True)\n",
    "    \n",
    "#converting y targets to one hot encoding by \n",
    "#setting number of classes, 10 for MNIST data set\n",
    "def one_hot(y):\n",
    "    number_classes = 10\n",
    "    encoded = np.eye(number_classes)[y]\n",
    "    return encoded\n",
    "\n",
    "#training step\n",
    "def gradient_descent(eta,epochs,X_bias,y_encoded):\n",
    "    #setting theta to have propper shape and random values\n",
    "    # there is a theta for every x per class which is 10\n",
    "    theta = np.random.randn((X_bias.shape[1]),10)\n",
    "    #setting minum amount of loss\n",
    "    loss_intit = 1.8\n",
    "    m = len(X_bias)\n",
    "    for epoch in range(epochs):\n",
    "        scores = X_bias @ theta\n",
    "        probabilities = softmax(scores)\n",
    "        loss = cross_entropy(y_encoded,probabilities)\n",
    "        grad = (X_bias.T@(probabilities-y_encoded))/m\n",
    "\n",
    "        theta-= eta*grad\n",
    "\n",
    "        if loss < loss_intit:\n",
    "            break\n",
    "\n",
    "        else:\n",
    "            print(f'Current Epoch: {epoch}')\n",
    "            print(f'Current loss: {loss} ')\n",
    "            print('\\n')\n",
    "    return theta"
   ]
  },
  {
   "cell_type": "markdown",
   "metadata": {},
   "source": [
    "## Getting the data and setting up data vars"
   ]
  },
  {
   "cell_type": "code",
   "execution_count": null,
   "metadata": {},
   "outputs": [],
   "source": [
    "from sklearn.datasets import fetch_openml\n",
    "\n",
    "mnist = fetch_openml('mnist_784',as_frame=False)"
   ]
  },
  {
   "cell_type": "code",
   "execution_count": 6,
   "metadata": {},
   "outputs": [],
   "source": [
    "np.random.seed(42)"
   ]
  },
  {
   "cell_type": "code",
   "execution_count": 9,
   "metadata": {},
   "outputs": [],
   "source": [
    "X, y = mnist.data,mnist.target\n",
    "y = y.astype(np.uint8)\n",
    "X_train, X_test,y_train,y_test = X[:60000],X[60000:],y[:60000],y[60000:]\n",
    "\n",
    "#setting the bias and y-encoded\n",
    "X_bias = dummy_features(X_train)\n",
    "y_encoded = one_hot(y_train)\n",
    "\n"
   ]
  },
  {
   "cell_type": "markdown",
   "metadata": {},
   "source": [
    "## Setting params for grad descent"
   ]
  },
  {
   "cell_type": "code",
   "execution_count": 10,
   "metadata": {},
   "outputs": [
    {
     "name": "stdout",
     "output_type": "stream",
     "text": [
      "Current Epoch: 0\n",
      "Current loss: 14.162195842777061 \n",
      "\n",
      "\n",
      "Current Epoch: 1\n",
      "Current loss: 13.754127780784744 \n",
      "\n",
      "\n",
      "Current Epoch: 2\n",
      "Current loss: 11.215834582053335 \n",
      "\n",
      "\n",
      "Current Epoch: 3\n",
      "Current loss: 9.331840194989157 \n",
      "\n",
      "\n",
      "Current Epoch: 4\n",
      "Current loss: 10.454274147179598 \n",
      "\n",
      "\n",
      "Current Epoch: 5\n",
      "Current loss: 11.40572932976077 \n",
      "\n",
      "\n",
      "Current Epoch: 6\n",
      "Current loss: 9.33677963967311 \n",
      "\n",
      "\n",
      "Current Epoch: 7\n",
      "Current loss: 7.9024114671371 \n",
      "\n",
      "\n",
      "Current Epoch: 8\n",
      "Current loss: 5.879208973671844 \n",
      "\n",
      "\n",
      "Current Epoch: 9\n",
      "Current loss: 7.71724575489225 \n",
      "\n",
      "\n",
      "Current Epoch: 10\n",
      "Current loss: 5.962552296055682 \n",
      "\n",
      "\n",
      "Current Epoch: 11\n",
      "Current loss: 4.637694267899024 \n",
      "\n",
      "\n",
      "Current Epoch: 12\n",
      "Current loss: 4.40030023960681 \n",
      "\n",
      "\n",
      "Current Epoch: 13\n",
      "Current loss: 4.531465821255267 \n",
      "\n",
      "\n",
      "Current Epoch: 14\n",
      "Current loss: 4.173106688590057 \n",
      "\n",
      "\n",
      "Current Epoch: 15\n",
      "Current loss: 3.6719775618825237 \n",
      "\n",
      "\n",
      "Current Epoch: 16\n",
      "Current loss: 3.7185366841878493 \n",
      "\n",
      "\n",
      "Current Epoch: 17\n",
      "Current loss: 3.4116389283102837 \n",
      "\n",
      "\n",
      "Current Epoch: 18\n",
      "Current loss: 3.4318127140417274 \n",
      "\n",
      "\n",
      "Current Epoch: 19\n",
      "Current loss: 3.2120491583919177 \n",
      "\n",
      "\n",
      "Current Epoch: 20\n",
      "Current loss: 3.003774855998387 \n",
      "\n",
      "\n",
      "Current Epoch: 21\n",
      "Current loss: 2.9579831750148946 \n",
      "\n",
      "\n",
      "Current Epoch: 22\n",
      "Current loss: 2.733638922432083 \n",
      "\n",
      "\n",
      "Current Epoch: 23\n",
      "Current loss: 2.696439841855749 \n",
      "\n",
      "\n",
      "Current Epoch: 24\n",
      "Current loss: 2.4697841750915 \n",
      "\n",
      "\n",
      "Current Epoch: 25\n",
      "Current loss: 2.4054042095969725 \n",
      "\n",
      "\n",
      "Current Epoch: 26\n",
      "Current loss: 2.214087019258548 \n",
      "\n",
      "\n",
      "Current Epoch: 27\n",
      "Current loss: 2.136914969752592 \n",
      "\n",
      "\n",
      "Current Epoch: 28\n",
      "Current loss: 2.0344252616062044 \n",
      "\n",
      "\n",
      "Current Epoch: 29\n",
      "Current loss: 1.9713910992827033 \n",
      "\n",
      "\n",
      "Current Epoch: 30\n",
      "Current loss: 1.9244308340975715 \n",
      "\n",
      "\n",
      "Current Epoch: 31\n",
      "Current loss: 1.885637355682128 \n",
      "\n",
      "\n",
      "Current Epoch: 32\n",
      "Current loss: 1.8589245076248024 \n",
      "\n",
      "\n",
      "Current Epoch: 33\n",
      "Current loss: 1.842566736352031 \n",
      "\n",
      "\n",
      "Current Epoch: 34\n",
      "Current loss: 1.8236088090495128 \n",
      "\n",
      "\n",
      "Current Epoch: 35\n",
      "Current loss: 1.8138445203347653 \n",
      "\n",
      "\n"
     ]
    }
   ],
   "source": [
    "eta = .5\n",
    "epochs = 1500\n",
    "\n",
    "theta = gradient_descent(eta,epochs,X_bias,y_encoded)"
   ]
  },
  {
   "cell_type": "code",
   "execution_count": 11,
   "metadata": {},
   "outputs": [
    {
     "data": {
      "text/plain": [
       "array([[-0.86407999,  0.59987517,  0.70060804, ...,  0.35028188,\n",
       "         0.16969942, -0.52525378],\n",
       "       [ 0.68987839, -1.34174717, -0.22545245, ..., -0.77906671,\n",
       "         1.01700439, -1.02997836],\n",
       "       [ 0.22430632,  0.46999874, -0.92967451, ..., -0.59736257,\n",
       "        -1.38112155, -1.36963941],\n",
       "       ...,\n",
       "       [-0.75194162, -0.53161794, -0.2035224 , ...,  0.25728589,\n",
       "        -1.05237202,  0.29131046],\n",
       "       [ 0.16187083, -0.71805291,  1.19504976, ..., -0.07218341,\n",
       "        -0.08054367,  1.06596507],\n",
       "       [-1.41840433, -1.25155314,  0.77696336, ..., -0.63708118,\n",
       "         0.45653317,  0.95364896]])"
      ]
     },
     "execution_count": 11,
     "metadata": {},
     "output_type": "execute_result"
    }
   ],
   "source": [
    "theta"
   ]
  },
  {
   "cell_type": "markdown",
   "metadata": {},
   "source": [
    "# Using theta to make predictions"
   ]
  },
  {
   "cell_type": "code",
   "execution_count": 12,
   "metadata": {},
   "outputs": [],
   "source": [
    "def predict(X,theta):\n",
    "    X_bias = dummy_features(X)\n",
    "    score = X_bias @ theta\n",
    "    probabilites = softmax(score)\n",
    "    predictions = np.argmax(probabilites,axis=1)\n",
    "\n",
    "    return predictions"
   ]
  },
  {
   "cell_type": "code",
   "execution_count": 13,
   "metadata": {},
   "outputs": [],
   "source": [
    "predictions = predict(X_test,theta)"
   ]
  },
  {
   "cell_type": "code",
   "execution_count": 14,
   "metadata": {},
   "outputs": [
    {
     "name": "stdout",
     "output_type": "stream",
     "text": [
      "Label is 7\n",
      "predicted value is: 7\n"
     ]
    },
    {
     "data": {
      "image/png": "[encoded data removed]",
      "text/plain": [
       "<Figure size 640x480 with 1 Axes>"
      ]
     },
     "metadata": {},
     "output_type": "display_data"
    }
   ],
   "source": [
    "import matplotlib.pyplot as plt\n",
    "plt.imshow(X_test[0].reshape((28,28)))\n",
    "print('Label is ' + f'{y_test[0]}')\n",
    "print('predicted value is: ' + f'{predictions[0]}')"
   ]
  },
  {
   "cell_type": "markdown",
   "metadata": {},
   "source": [
    "## Testing accuracy"
   ]
  },
  {
   "cell_type": "code",
   "execution_count": 15,
   "metadata": {},
   "outputs": [],
   "source": [
    "correct = 0\n",
    "#gets number of correct predctions\n",
    "for i in range(len(y_test)):\n",
    "    if (y_test[i] == predictions[i]):\n",
    "        correct += 1\n",
    "\n",
    "accuracy = correct/len(y_test) * 100"
   ]
  },
  {
   "cell_type": "code",
   "execution_count": 16,
   "metadata": {},
   "outputs": [
    {
     "name": "stdout",
     "output_type": "stream",
     "text": [
      "Final achived accuracy is: 89.64%\n"
     ]
    }
   ],
   "source": [
    "print(f'Final achived accuracy is: {accuracy.__round__(3)}%')"
   ]
  }
 ],
 "metadata": {
  "kernelspec": {
   "display_name": "base",
   "language": "python",
   "name": "python3"
  },
  "language_info": {
   "codemirror_mode": {
    "name": "ipython",
    "version": 3
   },
   "file_extension": ".py",
   "mimetype": "text/x-python",
   "name": "python",
   "nbconvert_exporter": "python",
   "pygments_lexer": "ipython3",
   "version": "3.11.4"
  }
 },
 "nbformat": 4,
 "nbformat_minor": 2
}
